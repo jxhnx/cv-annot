{
 "cells": [
  {
   "cell_type": "code",
   "execution_count": 1,
   "id": "91428d68-f786-4bd8-a342-a4d56fc76170",
   "metadata": {},
   "outputs": [
    {
     "name": "stdout",
     "output_type": "stream",
     "text": []
    },
    {
     "name": "stdout",
     "output_type": "stream",
     "text": [
      " 100% |█████████████████| 200/200 [1.2s elapsed, 0s remaining, 163.7 samples/s]         \n",
      "   2% |/--------------|   31/2000 [194.6ms elapsed, 12.4s remaining, 159.3 samples/s] "
     ]
    },
    {
     "name": "stderr",
     "output_type": "stream",
     "text": [
      "/Users/john/opt/anaconda3/envs/cv-annot/lib/python3.10/site-packages/fiftyone/utils/coco.py:2007: UserWarning: Skipping object with no segmentation mask\n",
      "  warnings.warn(msg)\n"
     ]
    },
    {
     "name": "stdout",
     "output_type": "stream",
     "text": [
      " 100% |███████████████| 2000/2000 [9.5s elapsed, 0s remaining, 307.0 samples/s]       \n"
     ]
    },
    {
     "data": {
      "text/plain": [
       "Name:        2022.09.16.13.30.52\n",
       "Media type:  image\n",
       "Num samples: 2000\n",
       "Persistent:  False\n",
       "Tags:        []\n",
       "Sample fields:\n",
       "    id:            fiftyone.core.fields.ObjectIdField\n",
       "    filepath:      fiftyone.core.fields.StringField\n",
       "    tags:          fiftyone.core.fields.ListField(fiftyone.core.fields.StringField)\n",
       "    metadata:      fiftyone.core.fields.EmbeddedDocumentField(fiftyone.core.metadata.ImageMetadata)\n",
       "    detections:    fiftyone.core.fields.EmbeddedDocumentField(fiftyone.core.labels.Detections)\n",
       "    segmentations: fiftyone.core.fields.EmbeddedDocumentField(fiftyone.core.labels.Detections)\n",
       "    keypoints:     fiftyone.core.fields.EmbeddedDocumentField(fiftyone.core.labels.Keypoints)"
      ]
     },
     "execution_count": 1,
     "metadata": {},
     "output_type": "execute_result"
    }
   ],
   "source": [
    "# load dataset\n",
    "\n",
    "from configs import cfg  # import first, set env variables for fiftyone\n",
    "import fiftyone as fo\n",
    "import fiftyone.zoo as foz\n",
    "\n",
    "coco_val = fo.Dataset.from_dir(\n",
    "    dataset_type = fo.types.COCODetectionDataset,\n",
    "    label_types = [\"detections\", \"segmentations\", \"keypoints\"],\n",
    "    data_path = f'{cfg.DATASET.COCO.ROOT}/images/val2017',\n",
    "    labels_path = f'{cfg.DATASET.COCO.ROOT}/annotations/person_keypoints_val2017.json',\n",
    "    max_samples=200\n",
    ")\n",
    "\n",
    "crowd_val = fo.Dataset.from_dir(\n",
    "    dataset_type = fo.types.COCODetectionDataset,\n",
    "    label_types = [\"detections\", \"segmentations\", \"keypoints\"],\n",
    "    data_path = f'{cfg.DATASET.CROWD_POSE.ROOT}/images',\n",
    "    labels_path = f'{cfg.DATASET.CROWD_POSE.ROOT}/json/crowdpose_val.json',\n",
    "    max_samples=2000\n",
    ")\n",
    "\n",
    "crowd_val\n",
    "# coco_val.info"
   ]
  },
  {
   "cell_type": "code",
   "execution_count": null,
   "id": "dfd452ea-b7b2-46af-8cff-779f48908122",
   "metadata": {},
   "outputs": [],
   "source": [
    "%%capture\n",
    "# launch fiftyone session\n",
    "\n",
    "import webbrowser\n",
    "port = 5151\n",
    "session = fo.launch_app(port=port)\n",
    "webbrowser.open(f'http://localhost:{port}/')\n"
   ]
  },
  {
   "cell_type": "code",
   "execution_count": 5,
   "id": "bb777aed-7de0-4982-bd32-5be10e7b639f",
   "metadata": {},
   "outputs": [],
   "source": [
    "%%capture\n",
    "dataset = crowd_val\n",
    "dataset.persistent = True\n",
    "\n",
    "# update session dataset\n",
    "# session.dataset = dataset\n",
    "\n",
    "# ... or session view\n",
    "session.view = dataset.view().take(100)"
   ]
  },
  {
   "cell_type": "code",
   "execution_count": 4,
   "id": "43f1e5ce-60ac-45e4-bb1e-e73c909ee5c6",
   "metadata": {},
   "outputs": [
    {
     "data": {
      "text/plain": [
       "[]"
      ]
     },
     "execution_count": 4,
     "metadata": {},
     "output_type": "execute_result"
    }
   ],
   "source": [
    "# list previous annotation runs\n",
    "dataset.list_annotation_runs()\n",
    "\n",
    "# get info about specific run\n",
    "# dataset.get_annotation_info('ANNOT_KEY')\n",
    "\n",
    "# delete (key, not annotations)\n",
    "# dataset.delete_annotation_run(ANNO_KEY)"
   ]
  },
  {
   "cell_type": "code",
   "execution_count": 5,
   "id": "146a3137-c73c-4262-85a4-2d9c8a63adb0",
   "metadata": {},
   "outputs": [
    {
     "name": "stdout",
     "output_type": "stream",
     "text": [
      "Uploading samples to CVAT...\n"
     ]
    },
    {
     "ename": "ValueError",
     "evalue": "cannot convert float NaN to integer",
     "output_type": "error",
     "traceback": [
      "\u001b[0;31m---------------------------------------------------------------------------\u001b[0m",
      "\u001b[0;31mValueError\u001b[0m                                Traceback (most recent call last)",
      "Input \u001b[0;32mIn [5]\u001b[0m, in \u001b[0;36m<cell line: 8>\u001b[0;34m()\u001b[0m\n\u001b[1;32m      4\u001b[0m ANNO_KEY \u001b[38;5;241m=\u001b[39m \u001b[38;5;124m'\u001b[39m\u001b[38;5;124mtask_1\u001b[39m\u001b[38;5;124m'\u001b[39m\n\u001b[1;32m      6\u001b[0m \u001b[38;5;66;03m# FAIL: coco keypoint format cannot be converted to CVAT\u001b[39;00m\n\u001b[1;32m      7\u001b[0m \u001b[38;5;66;03m# NaN values in coco stand for occluded keypoints\u001b[39;00m\n\u001b[0;32m----> 8\u001b[0m \u001b[43mdataset\u001b[49m\u001b[38;5;241;43m.\u001b[39;49m\u001b[43mannotate\u001b[49m\u001b[43m(\u001b[49m\n\u001b[1;32m      9\u001b[0m \u001b[43m    \u001b[49m\u001b[43mANNO_KEY\u001b[49m\u001b[43m,\u001b[49m\n\u001b[1;32m     10\u001b[0m \u001b[43m    \u001b[49m\u001b[43mlabel_field\u001b[49m\u001b[38;5;241;43m=\u001b[39;49m\u001b[38;5;124;43m'\u001b[39;49m\u001b[38;5;124;43mkeypoints\u001b[39;49m\u001b[38;5;124;43m'\u001b[39;49m\u001b[43m,\u001b[49m\n\u001b[1;32m     11\u001b[0m \u001b[43m    \u001b[49m\u001b[43mlabel_type\u001b[49m\u001b[38;5;241;43m=\u001b[39;49m\u001b[38;5;124;43m'\u001b[39;49m\u001b[38;5;124;43mkeypoints\u001b[39;49m\u001b[38;5;124;43m'\u001b[39;49m\u001b[43m,\u001b[49m\n\u001b[1;32m     12\u001b[0m \u001b[43m    \u001b[49m\u001b[43murl\u001b[49m\u001b[38;5;241;43m=\u001b[39;49m\u001b[38;5;124;43m'\u001b[39;49m\u001b[38;5;124;43mhttp://localhost:8080\u001b[39;49m\u001b[38;5;124;43m'\u001b[39;49m\u001b[43m,\u001b[49m\u001b[43m  \u001b[49m\u001b[38;5;66;43;03m# default CVAT port\u001b[39;49;00m\n\u001b[1;32m     13\u001b[0m \u001b[43m    \u001b[49m\u001b[43mlaunch_editor\u001b[49m\u001b[38;5;241;43m=\u001b[39;49m\u001b[38;5;28;43;01mTrue\u001b[39;49;00m\u001b[43m,\u001b[49m\n\u001b[1;32m     14\u001b[0m \u001b[43m)\u001b[49m\n",
      "File \u001b[0;32m~/opt/anaconda3/envs/fiftyone/lib/python3.10/site-packages/fiftyone/core/collections.py:6447\u001b[0m, in \u001b[0;36mSampleCollection.annotate\u001b[0;34m(self, anno_key, label_schema, label_field, label_type, classes, attributes, mask_targets, allow_additions, allow_deletions, allow_label_edits, allow_index_edits, allow_spatial_edits, media_field, backend, launch_editor, **kwargs)\u001b[0m\n\u001b[1;32m   6320\u001b[0m \u001b[38;5;28;01mdef\u001b[39;00m \u001b[38;5;21mannotate\u001b[39m(\n\u001b[1;32m   6321\u001b[0m     \u001b[38;5;28mself\u001b[39m,\n\u001b[1;32m   6322\u001b[0m     anno_key,\n\u001b[0;32m   (...)\u001b[0m\n\u001b[1;32m   6337\u001b[0m     \u001b[38;5;241m*\u001b[39m\u001b[38;5;241m*\u001b[39mkwargs,\n\u001b[1;32m   6338\u001b[0m ):\n\u001b[1;32m   6339\u001b[0m     \u001b[38;5;124;03m\"\"\"Exports the samples and optional label field(s) in this collection\u001b[39;00m\n\u001b[1;32m   6340\u001b[0m \u001b[38;5;124;03m    to the given annotation backend.\u001b[39;00m\n\u001b[1;32m   6341\u001b[0m \n\u001b[0;32m   (...)\u001b[0m\n\u001b[1;32m   6445\u001b[0m \u001b[38;5;124;03m        an :class:`fiftyone.utils.annotations.AnnnotationResults`\u001b[39;00m\n\u001b[1;32m   6446\u001b[0m \u001b[38;5;124;03m    \"\"\"\u001b[39;00m\n\u001b[0;32m-> 6447\u001b[0m     \u001b[38;5;28;01mreturn\u001b[39;00m \u001b[43mfoua\u001b[49m\u001b[38;5;241;43m.\u001b[39;49m\u001b[43mannotate\u001b[49m\u001b[43m(\u001b[49m\n\u001b[1;32m   6448\u001b[0m \u001b[43m        \u001b[49m\u001b[38;5;28;43mself\u001b[39;49m\u001b[43m,\u001b[49m\n\u001b[1;32m   6449\u001b[0m \u001b[43m        \u001b[49m\u001b[43manno_key\u001b[49m\u001b[43m,\u001b[49m\n\u001b[1;32m   6450\u001b[0m \u001b[43m        \u001b[49m\u001b[43mlabel_schema\u001b[49m\u001b[38;5;241;43m=\u001b[39;49m\u001b[43mlabel_schema\u001b[49m\u001b[43m,\u001b[49m\n\u001b[1;32m   6451\u001b[0m \u001b[43m        \u001b[49m\u001b[43mlabel_field\u001b[49m\u001b[38;5;241;43m=\u001b[39;49m\u001b[43mlabel_field\u001b[49m\u001b[43m,\u001b[49m\n\u001b[1;32m   6452\u001b[0m \u001b[43m        \u001b[49m\u001b[43mlabel_type\u001b[49m\u001b[38;5;241;43m=\u001b[39;49m\u001b[43mlabel_type\u001b[49m\u001b[43m,\u001b[49m\n\u001b[1;32m   6453\u001b[0m \u001b[43m        \u001b[49m\u001b[43mclasses\u001b[49m\u001b[38;5;241;43m=\u001b[39;49m\u001b[43mclasses\u001b[49m\u001b[43m,\u001b[49m\n\u001b[1;32m   6454\u001b[0m \u001b[43m        \u001b[49m\u001b[43mattributes\u001b[49m\u001b[38;5;241;43m=\u001b[39;49m\u001b[43mattributes\u001b[49m\u001b[43m,\u001b[49m\n\u001b[1;32m   6455\u001b[0m \u001b[43m        \u001b[49m\u001b[43mmask_targets\u001b[49m\u001b[38;5;241;43m=\u001b[39;49m\u001b[43mmask_targets\u001b[49m\u001b[43m,\u001b[49m\n\u001b[1;32m   6456\u001b[0m \u001b[43m        \u001b[49m\u001b[43mallow_additions\u001b[49m\u001b[38;5;241;43m=\u001b[39;49m\u001b[43mallow_additions\u001b[49m\u001b[43m,\u001b[49m\n\u001b[1;32m   6457\u001b[0m \u001b[43m        \u001b[49m\u001b[43mallow_deletions\u001b[49m\u001b[38;5;241;43m=\u001b[39;49m\u001b[43mallow_deletions\u001b[49m\u001b[43m,\u001b[49m\n\u001b[1;32m   6458\u001b[0m \u001b[43m        \u001b[49m\u001b[43mallow_label_edits\u001b[49m\u001b[38;5;241;43m=\u001b[39;49m\u001b[43mallow_label_edits\u001b[49m\u001b[43m,\u001b[49m\n\u001b[1;32m   6459\u001b[0m \u001b[43m        \u001b[49m\u001b[43mallow_index_edits\u001b[49m\u001b[38;5;241;43m=\u001b[39;49m\u001b[43mallow_index_edits\u001b[49m\u001b[43m,\u001b[49m\n\u001b[1;32m   6460\u001b[0m \u001b[43m        \u001b[49m\u001b[43mallow_spatial_edits\u001b[49m\u001b[38;5;241;43m=\u001b[39;49m\u001b[43mallow_spatial_edits\u001b[49m\u001b[43m,\u001b[49m\n\u001b[1;32m   6461\u001b[0m \u001b[43m        \u001b[49m\u001b[43mmedia_field\u001b[49m\u001b[38;5;241;43m=\u001b[39;49m\u001b[43mmedia_field\u001b[49m\u001b[43m,\u001b[49m\n\u001b[1;32m   6462\u001b[0m \u001b[43m        \u001b[49m\u001b[43mbackend\u001b[49m\u001b[38;5;241;43m=\u001b[39;49m\u001b[43mbackend\u001b[49m\u001b[43m,\u001b[49m\n\u001b[1;32m   6463\u001b[0m \u001b[43m        \u001b[49m\u001b[43mlaunch_editor\u001b[49m\u001b[38;5;241;43m=\u001b[39;49m\u001b[43mlaunch_editor\u001b[49m\u001b[43m,\u001b[49m\n\u001b[1;32m   6464\u001b[0m \u001b[43m        \u001b[49m\u001b[38;5;241;43m*\u001b[39;49m\u001b[38;5;241;43m*\u001b[39;49m\u001b[43mkwargs\u001b[49m\u001b[43m,\u001b[49m\n\u001b[1;32m   6465\u001b[0m \u001b[43m    \u001b[49m\u001b[43m)\u001b[49m\n",
      "File \u001b[0;32m~/opt/anaconda3/envs/fiftyone/lib/python3.10/site-packages/fiftyone/utils/annotations.py:211\u001b[0m, in \u001b[0;36mannotate\u001b[0;34m(samples, anno_key, label_schema, label_field, label_type, classes, attributes, mask_targets, allow_additions, allow_deletions, allow_label_edits, allow_index_edits, allow_spatial_edits, media_field, backend, launch_editor, **kwargs)\u001b[0m\n\u001b[1;32m    204\u001b[0m \u001b[38;5;66;03m#\u001b[39;00m\n\u001b[1;32m    205\u001b[0m \u001b[38;5;66;03m# Don't allow overwriting an existing run with same `anno_key`, since we\u001b[39;00m\n\u001b[1;32m    206\u001b[0m \u001b[38;5;66;03m# need the existing run in order to perform workflows like automatically\u001b[39;00m\n\u001b[1;32m    207\u001b[0m \u001b[38;5;66;03m# cleaning up the backend's tasks\u001b[39;00m\n\u001b[1;32m    208\u001b[0m \u001b[38;5;66;03m#\u001b[39;00m\n\u001b[1;32m    209\u001b[0m anno_backend\u001b[38;5;241m.\u001b[39mregister_run(samples, anno_key, overwrite\u001b[38;5;241m=\u001b[39m\u001b[38;5;28;01mFalse\u001b[39;00m)\n\u001b[0;32m--> 211\u001b[0m results \u001b[38;5;241m=\u001b[39m \u001b[43manno_backend\u001b[49m\u001b[38;5;241;43m.\u001b[39;49m\u001b[43mupload_annotations\u001b[49m\u001b[43m(\u001b[49m\n\u001b[1;32m    212\u001b[0m \u001b[43m    \u001b[49m\u001b[43msamples\u001b[49m\u001b[43m,\u001b[49m\u001b[43m \u001b[49m\u001b[43mlaunch_editor\u001b[49m\u001b[38;5;241;43m=\u001b[39;49m\u001b[43mlaunch_editor\u001b[49m\n\u001b[1;32m    213\u001b[0m \u001b[43m\u001b[49m\u001b[43m)\u001b[49m\n\u001b[1;32m    215\u001b[0m \u001b[38;5;66;03m# It is possible that the annotation backend may update the run's config\u001b[39;00m\n\u001b[1;32m    216\u001b[0m \u001b[38;5;66;03m# (e.g., when uploading to an existing project, its label schema may be\u001b[39;00m\n\u001b[1;32m    217\u001b[0m \u001b[38;5;66;03m# inherited), so we update the config now\u001b[39;00m\n\u001b[1;32m    218\u001b[0m anno_backend\u001b[38;5;241m.\u001b[39mupdate_run_config(samples, anno_key, config)\n",
      "File \u001b[0;32m~/opt/anaconda3/envs/fiftyone/lib/python3.10/site-packages/fiftyone/utils/cvat.py:3199\u001b[0m, in \u001b[0;36mCVATBackend.upload_annotations\u001b[0;34m(self, samples, launch_editor)\u001b[0m\n\u001b[1;32m   3197\u001b[0m \u001b[38;5;28;01mdef\u001b[39;00m \u001b[38;5;21mupload_annotations\u001b[39m(\u001b[38;5;28mself\u001b[39m, samples, launch_editor\u001b[38;5;241m=\u001b[39m\u001b[38;5;28;01mFalse\u001b[39;00m):\n\u001b[1;32m   3198\u001b[0m     api \u001b[38;5;241m=\u001b[39m \u001b[38;5;28mself\u001b[39m\u001b[38;5;241m.\u001b[39mconnect_to_api()\n\u001b[0;32m-> 3199\u001b[0m     results \u001b[38;5;241m=\u001b[39m \u001b[43mapi\u001b[49m\u001b[38;5;241;43m.\u001b[39;49m\u001b[43mupload_samples\u001b[49m\u001b[43m(\u001b[49m\u001b[43msamples\u001b[49m\u001b[43m,\u001b[49m\u001b[43m \u001b[49m\u001b[38;5;28;43mself\u001b[39;49m\u001b[43m)\u001b[49m\n\u001b[1;32m   3200\u001b[0m     api\u001b[38;5;241m.\u001b[39mclose()\n\u001b[1;32m   3202\u001b[0m     \u001b[38;5;28;01mif\u001b[39;00m launch_editor:\n",
      "File \u001b[0;32m~/opt/anaconda3/envs/fiftyone/lib/python3.10/site-packages/fiftyone/utils/cvat.py:4235\u001b[0m, in \u001b[0;36mCVATAnnotationAPI.upload_samples\u001b[0;34m(self, samples, backend)\u001b[0m\n\u001b[1;32m   4230\u001b[0m     label_type \u001b[38;5;241m=\u001b[39m label_info[\u001b[38;5;124m\"\u001b[39m\u001b[38;5;124mtype\u001b[39m\u001b[38;5;124m\"\u001b[39m]\n\u001b[1;32m   4231\u001b[0m     only_keyframes \u001b[38;5;241m=\u001b[39m label_info\u001b[38;5;241m.\u001b[39mget(\n\u001b[1;32m   4232\u001b[0m         \u001b[38;5;124m\"\u001b[39m\u001b[38;5;124monly_keyframes\u001b[39m\u001b[38;5;124m\"\u001b[39m, \u001b[38;5;28;01mFalse\u001b[39;00m\n\u001b[1;32m   4233\u001b[0m     )\n\u001b[0;32m-> 4235\u001b[0m     \u001b[38;5;28;43mself\u001b[39;49m\u001b[38;5;241;43m.\u001b[39;49m\u001b[43m_update_shapes_tags_tracks\u001b[49m\u001b[43m(\u001b[49m\n\u001b[1;32m   4236\u001b[0m \u001b[43m        \u001b[49m\u001b[43m_tags\u001b[49m\u001b[43m,\u001b[49m\n\u001b[1;32m   4237\u001b[0m \u001b[43m        \u001b[49m\u001b[43m_shapes\u001b[49m\u001b[43m,\u001b[49m\n\u001b[1;32m   4238\u001b[0m \u001b[43m        \u001b[49m\u001b[43m_tracks\u001b[49m\u001b[43m,\u001b[49m\n\u001b[1;32m   4239\u001b[0m \u001b[43m        \u001b[49m\u001b[43mid_map\u001b[49m\u001b[43m,\u001b[49m\n\u001b[1;32m   4240\u001b[0m \u001b[43m        \u001b[49m\u001b[43mlabel_type\u001b[49m\u001b[43m,\u001b[49m\n\u001b[1;32m   4241\u001b[0m \u001b[43m        \u001b[49m\u001b[43msamples_batch\u001b[49m\u001b[43m,\u001b[49m\n\u001b[1;32m   4242\u001b[0m \u001b[43m        \u001b[49m\u001b[43mlabel_field\u001b[49m\u001b[43m,\u001b[49m\n\u001b[1;32m   4243\u001b[0m \u001b[43m        \u001b[49m\u001b[43mlabel_info\u001b[49m\u001b[43m,\u001b[49m\n\u001b[1;32m   4244\u001b[0m \u001b[43m        \u001b[49m\u001b[43mcvat_schema\u001b[49m\u001b[43m,\u001b[49m\n\u001b[1;32m   4245\u001b[0m \u001b[43m        \u001b[49m\u001b[43massign_scalar_attrs\u001b[49m\u001b[43m,\u001b[49m\n\u001b[1;32m   4246\u001b[0m \u001b[43m        \u001b[49m\u001b[43monly_keyframes\u001b[49m\u001b[43m,\u001b[49m\n\u001b[1;32m   4247\u001b[0m \u001b[43m        \u001b[49m\u001b[43moccluded_attrs\u001b[49m\u001b[43m,\u001b[49m\n\u001b[1;32m   4248\u001b[0m \u001b[43m        \u001b[49m\u001b[43mgroup_id_attrs\u001b[49m\u001b[43m,\u001b[49m\n\u001b[1;32m   4249\u001b[0m \u001b[43m    \u001b[49m\u001b[43m)\u001b[49m\n\u001b[1;32m   4251\u001b[0m anno_tags\u001b[38;5;241m.\u001b[39mextend(_tags)\n\u001b[1;32m   4252\u001b[0m anno_shapes\u001b[38;5;241m.\u001b[39mextend(_shapes)\n",
      "File \u001b[0;32m~/opt/anaconda3/envs/fiftyone/lib/python3.10/site-packages/fiftyone/utils/cvat.py:5177\u001b[0m, in \u001b[0;36mCVATAnnotationAPI._update_shapes_tags_tracks\u001b[0;34m(self, tags, shapes, tracks, id_map, label_type, samples_batch, label_field, label_info, cvat_schema, assign_scalar_attrs, only_keyframes, occluded_attrs, group_id_attrs)\u001b[0m\n\u001b[1;32m   5161\u001b[0m     (\n\u001b[1;32m   5162\u001b[0m         _id_map,\n\u001b[1;32m   5163\u001b[0m         anno_shapes,\n\u001b[0;32m   (...)\u001b[0m\n\u001b[1;32m   5173\u001b[0m         group_id_attrs\u001b[38;5;241m=\u001b[39mgroup_id_attrs,\n\u001b[1;32m   5174\u001b[0m     )\n\u001b[1;32m   5175\u001b[0m \u001b[38;5;28;01melse\u001b[39;00m:\n\u001b[1;32m   5176\u001b[0m     \u001b[38;5;66;03m# Shape annotations\u001b[39;00m\n\u001b[0;32m-> 5177\u001b[0m     _id_map, anno_shapes \u001b[38;5;241m=\u001b[39m \u001b[38;5;28;43mself\u001b[39;49m\u001b[38;5;241;43m.\u001b[39;49m\u001b[43m_create_shapes_tags_tracks\u001b[49m\u001b[43m(\u001b[49m\n\u001b[1;32m   5178\u001b[0m \u001b[43m        \u001b[49m\u001b[43msamples_batch\u001b[49m\u001b[43m,\u001b[49m\n\u001b[1;32m   5179\u001b[0m \u001b[43m        \u001b[49m\u001b[43mlabel_field\u001b[49m\u001b[43m,\u001b[49m\n\u001b[1;32m   5180\u001b[0m \u001b[43m        \u001b[49m\u001b[43mlabel_info\u001b[49m\u001b[43m,\u001b[49m\n\u001b[1;32m   5181\u001b[0m \u001b[43m        \u001b[49m\u001b[43mcvat_schema\u001b[49m\u001b[43m,\u001b[49m\n\u001b[1;32m   5182\u001b[0m \u001b[43m        \u001b[49m\u001b[43moccluded_attrs\u001b[49m\u001b[38;5;241;43m=\u001b[39;49m\u001b[43moccluded_attrs\u001b[49m\u001b[43m,\u001b[49m\n\u001b[1;32m   5183\u001b[0m \u001b[43m        \u001b[49m\u001b[43mgroup_id_attrs\u001b[49m\u001b[38;5;241;43m=\u001b[39;49m\u001b[43mgroup_id_attrs\u001b[49m\u001b[43m,\u001b[49m\n\u001b[1;32m   5184\u001b[0m \u001b[43m    \u001b[49m\u001b[43m)\u001b[49m\n\u001b[1;32m   5186\u001b[0m id_map[label_field]\u001b[38;5;241m.\u001b[39mupdate(_id_map)\n\u001b[1;32m   5187\u001b[0m tags\u001b[38;5;241m.\u001b[39mextend(anno_tags)\n",
      "File \u001b[0;32m~/opt/anaconda3/envs/fiftyone/lib/python3.10/site-packages/fiftyone/utils/cvat.py:5766\u001b[0m, in \u001b[0;36mCVATAnnotationAPI._create_shapes_tags_tracks\u001b[0;34m(self, samples, label_field, label_info, cvat_schema, assign_scalar_attrs, load_tracks, only_keyframes, occluded_attrs, group_id_attrs)\u001b[0m\n\u001b[1;32m   5760\u001b[0m \u001b[38;5;28;01melse\u001b[39;00m:\n\u001b[1;32m   5761\u001b[0m     \u001b[38;5;28;01mraise\u001b[39;00m \u001b[38;5;167;01mValueError\u001b[39;00m(\n\u001b[1;32m   5762\u001b[0m         \u001b[38;5;124m\"\u001b[39m\u001b[38;5;124mLabel type \u001b[39m\u001b[38;5;124m'\u001b[39m\u001b[38;5;132;01m%s\u001b[39;00m\u001b[38;5;124m'\u001b[39m\u001b[38;5;124m of field \u001b[39m\u001b[38;5;124m'\u001b[39m\u001b[38;5;132;01m%s\u001b[39;00m\u001b[38;5;124m'\u001b[39m\u001b[38;5;124m is not supported\u001b[39m\u001b[38;5;124m\"\u001b[39m\n\u001b[1;32m   5763\u001b[0m         \u001b[38;5;241m%\u001b[39m (label_type, label_field)\n\u001b[1;32m   5764\u001b[0m     )\n\u001b[0;32m-> 5766\u001b[0m ids, _tags_or_shapes, _tracks, _remapped_attrs \u001b[38;5;241m=\u001b[39m \u001b[43mfunc\u001b[49m\u001b[43m(\u001b[49m\n\u001b[1;32m   5767\u001b[0m \u001b[43m    \u001b[49m\u001b[43mlabels\u001b[49m\u001b[43m,\u001b[49m\n\u001b[1;32m   5768\u001b[0m \u001b[43m    \u001b[49m\u001b[43mcvat_schema\u001b[49m\u001b[43m,\u001b[49m\n\u001b[1;32m   5769\u001b[0m \u001b[43m    \u001b[49m\u001b[43mlabel_field\u001b[49m\u001b[43m,\u001b[49m\n\u001b[1;32m   5770\u001b[0m \u001b[43m    \u001b[49m\u001b[43mframe_id\u001b[49m\u001b[43m,\u001b[49m\n\u001b[1;32m   5771\u001b[0m \u001b[43m    \u001b[49m\u001b[43mframe_size\u001b[49m\u001b[43m,\u001b[49m\n\u001b[1;32m   5772\u001b[0m \u001b[43m    \u001b[49m\u001b[43mlabel_type\u001b[49m\u001b[38;5;241;43m=\u001b[39;49m\u001b[43mlabel_type\u001b[49m\u001b[43m,\u001b[49m\n\u001b[1;32m   5773\u001b[0m \u001b[43m    \u001b[49m\u001b[38;5;241;43m*\u001b[39;49m\u001b[38;5;241;43m*\u001b[39;49m\u001b[43mkwargs\u001b[49m\u001b[43m,\u001b[49m\n\u001b[1;32m   5774\u001b[0m \u001b[43m\u001b[49m\u001b[43m)\u001b[49m\n\u001b[1;32m   5776\u001b[0m tags_or_shapes\u001b[38;5;241m.\u001b[39mextend(_tags_or_shapes)\n\u001b[1;32m   5777\u001b[0m \u001b[38;5;28mself\u001b[39m\u001b[38;5;241m.\u001b[39m_merge_tracks(tracks, _tracks)\n",
      "File \u001b[0;32m~/opt/anaconda3/envs/fiftyone/lib/python3.10/site-packages/fiftyone/utils/cvat.py:6040\u001b[0m, in \u001b[0;36mCVATAnnotationAPI._create_keypoint_shapes\u001b[0;34m(self, keypoints, cvat_schema, label_field, frame_id, frame_size, label_type, load_tracks, occluded_attrs, group_id_attrs)\u001b[0m\n\u001b[1;32m   6037\u001b[0m \u001b[38;5;28;01mif\u001b[39;00m class_name \u001b[38;5;129;01mis\u001b[39;00m \u001b[38;5;28;01mNone\u001b[39;00m:\n\u001b[1;32m   6038\u001b[0m     \u001b[38;5;28;01mcontinue\u001b[39;00m\n\u001b[0;32m-> 6040\u001b[0m abs_points \u001b[38;5;241m=\u001b[39m \u001b[43mHasCVATPoints\u001b[49m\u001b[38;5;241;43m.\u001b[39;49m\u001b[43m_to_abs_points\u001b[49m\u001b[43m(\u001b[49m\u001b[43mkp\u001b[49m\u001b[38;5;241;43m.\u001b[39;49m\u001b[43mpoints\u001b[49m\u001b[43m,\u001b[49m\u001b[43m \u001b[49m\u001b[43mframe_size\u001b[49m\u001b[43m)\u001b[49m\n\u001b[1;32m   6041\u001b[0m flattened_points \u001b[38;5;241m=\u001b[39m \u001b[38;5;28mlist\u001b[39m(itertools\u001b[38;5;241m.\u001b[39mchain\u001b[38;5;241m.\u001b[39mfrom_iterable(abs_points))\n\u001b[1;32m   6043\u001b[0m shape \u001b[38;5;241m=\u001b[39m {\n\u001b[1;32m   6044\u001b[0m     \u001b[38;5;124m\"\u001b[39m\u001b[38;5;124mtype\u001b[39m\u001b[38;5;124m\"\u001b[39m: \u001b[38;5;124m\"\u001b[39m\u001b[38;5;124mpoints\u001b[39m\u001b[38;5;124m\"\u001b[39m,\n\u001b[1;32m   6045\u001b[0m     \u001b[38;5;124m\"\u001b[39m\u001b[38;5;124moccluded\u001b[39m\u001b[38;5;124m\"\u001b[39m: is_occluded,\n\u001b[0;32m   (...)\u001b[0m\n\u001b[1;32m   6052\u001b[0m     \u001b[38;5;124m\"\u001b[39m\u001b[38;5;124mattributes\u001b[39m\u001b[38;5;124m\"\u001b[39m: attributes,\n\u001b[1;32m   6053\u001b[0m }\n",
      "File \u001b[0;32m~/opt/anaconda3/envs/fiftyone/lib/python3.10/site-packages/fiftyone/utils/cvat.py:1571\u001b[0m, in \u001b[0;36mHasCVATPoints._to_abs_points\u001b[0;34m(points, frame_size)\u001b[0m\n\u001b[1;32m   1568\u001b[0m \u001b[38;5;129m@staticmethod\u001b[39m\n\u001b[1;32m   1569\u001b[0m \u001b[38;5;28;01mdef\u001b[39;00m \u001b[38;5;21m_to_abs_points\u001b[39m(points, frame_size):\n\u001b[1;32m   1570\u001b[0m     w, h \u001b[38;5;241m=\u001b[39m frame_size\n\u001b[0;32m-> 1571\u001b[0m     \u001b[38;5;28;01mreturn\u001b[39;00m [(\u001b[38;5;28mint\u001b[39m(\u001b[38;5;28mround\u001b[39m(x \u001b[38;5;241m*\u001b[39m w)), \u001b[38;5;28mint\u001b[39m(\u001b[38;5;28mround\u001b[39m(y \u001b[38;5;241m*\u001b[39m h))) \u001b[38;5;28;01mfor\u001b[39;00m x, y \u001b[38;5;129;01min\u001b[39;00m points]\n",
      "File \u001b[0;32m~/opt/anaconda3/envs/fiftyone/lib/python3.10/site-packages/fiftyone/utils/cvat.py:1571\u001b[0m, in \u001b[0;36m<listcomp>\u001b[0;34m(.0)\u001b[0m\n\u001b[1;32m   1568\u001b[0m \u001b[38;5;129m@staticmethod\u001b[39m\n\u001b[1;32m   1569\u001b[0m \u001b[38;5;28;01mdef\u001b[39;00m \u001b[38;5;21m_to_abs_points\u001b[39m(points, frame_size):\n\u001b[1;32m   1570\u001b[0m     w, h \u001b[38;5;241m=\u001b[39m frame_size\n\u001b[0;32m-> 1571\u001b[0m     \u001b[38;5;28;01mreturn\u001b[39;00m [(\u001b[38;5;28mint\u001b[39m(\u001b[38;5;28;43mround\u001b[39;49m\u001b[43m(\u001b[49m\u001b[43mx\u001b[49m\u001b[43m \u001b[49m\u001b[38;5;241;43m*\u001b[39;49m\u001b[43m \u001b[49m\u001b[43mw\u001b[49m\u001b[43m)\u001b[49m), \u001b[38;5;28mint\u001b[39m(\u001b[38;5;28mround\u001b[39m(y \u001b[38;5;241m*\u001b[39m h))) \u001b[38;5;28;01mfor\u001b[39;00m x, y \u001b[38;5;129;01min\u001b[39;00m points]\n",
      "\u001b[0;31mValueError\u001b[0m: cannot convert float NaN to integer"
     ]
    }
   ],
   "source": [
    "# set unique key for this run load into CVAT\n",
    "# https://voxel51.com/docs/fiftyone/user_guide/annotation.html\n",
    "\n",
    "ANNO_KEY = 'task_1'\n",
    "\n",
    "# FAIL: coco keypoint format is currently not supported by cvat\n",
    "# NaN values in coco stand for occluded keypoints\n",
    "dataset.annotate(\n",
    "    ANNO_KEY,\n",
    "    label_field='keypoints',\n",
    "    label_type='keypoints',\n",
    "    url='http://localhost:8080',  # default CVAT port\n",
    "    launch_editor=True,\n",
    ")\n"
   ]
  }
 ],
 "metadata": {
  "kernelspec": {
   "display_name": "Python 3 (ipykernel)",
   "language": "python",
   "name": "python3"
  },
  "language_info": {
   "codemirror_mode": {
    "name": "ipython",
    "version": 3
   },
   "file_extension": ".py",
   "mimetype": "text/x-python",
   "name": "python",
   "nbconvert_exporter": "python",
   "pygments_lexer": "ipython3",
   "version": "3.10.4"
  }
 },
 "nbformat": 4,
 "nbformat_minor": 5
}
