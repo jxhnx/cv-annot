{
 "cells": [
  {
   "cell_type": "markdown",
   "id": "937dad56-fa74-45f0-99c1-094b56993e49",
   "metadata": {},
   "source": [
    "# Oversample a large dataset with a small one (COCO style)"
   ]
  },
  {
   "cell_type": "code",
   "execution_count": 55,
   "id": "bee19051-f6a9-45bc-a2d8-adf14bb0f91c",
   "metadata": {},
   "outputs": [
    {
     "name": "stdout",
     "output_type": "stream",
     "text": [
      "len(large1['images'])=118287; len(small1['images'])=200\n"
     ]
    }
   ],
   "source": [
    "import json\n",
    "import copy\n",
    "from pathlib import Path\n",
    "\n",
    "large = '/....json'\n",
    "small = '/....json'\n",
    "\n",
    "large1 = json.load(open(large))\n",
    "small1 = json.load(open(small))\n",
    "print(f\"{len(large1['images'])=}; {len(small1['images'])=}\")"
   ]
  },
  {
   "cell_type": "code",
   "execution_count": 52,
   "id": "6c7fbd56-0bd0-463e-a5d6-b06759e58089",
   "metadata": {},
   "outputs": [],
   "source": [
    "def oversample(large, small, percentage):\n",
    "    # large = json.load(open(large))\n",
    "    # small = json.load(open(small)) \n",
    "    image_ids_l = set([anno['image_id'] for anno in large['annotations']])\n",
    "    with_anno = [image for image in large['images'] if image['id'] in image_ids_l]\n",
    "    len_large = len(with_anno)\n",
    "    len_small = len(small['images'])\n",
    "    multiply_s = len_large / len_small * percentage / (1 - percentage)\n",
    "    \n",
    "    new_images = copy.deepcopy(large['images'])\n",
    "    new_annos = copy.deepcopy(large['annotations'])\n",
    "    \n",
    "    lookup = {}\n",
    "    for image in small['images']:\n",
    "        lookup[image['id']] = {'image': image}\n",
    "    for image in small['images']:\n",
    "        lookup[image['id']]['annotations'] = [anno for anno in small['annotations'] if anno['image_id'] == image['id']]\n",
    "    img_ids_large = set([image['id'] for image in with_anno])\n",
    "    img_ids_small = set([image['id'] for image in small['images']])\n",
    "    img_id_start = max(img_ids_large.union(img_ids_small)) + 1\n",
    "    anno_ids_large = set([anno['image_id'] for anno in large['annotations']])\n",
    "    anno_ids_small = set([anno['image_id'] for anno in small['annotations']])\n",
    "    anno_id_start = max(anno_ids_large.union(anno_ids_small)) + 1\n",
    "    \n",
    "    count_img = 1\n",
    "    count_ann = 1\n",
    "    for i in range(int(multiply_s)):\n",
    "        for entry in lookup.values():\n",
    "            image = copy.deepcopy(entry['image'])\n",
    "            image['id'] = img_id_start + count_img\n",
    "            count_img += 1\n",
    "            new_images.append(image)\n",
    "            \n",
    "            for anno in entry['annotations']:\n",
    "                ann = copy.deepcopy(anno)\n",
    "                ann['image_id'] = img_id_start + count_ann\n",
    "                ann['id'] = anno_id_start + count_ann\n",
    "                new_annos.append(ann)\n",
    "                count_ann += 1\n",
    "\n",
    "    \n",
    "    return new_images, new_annos\n",
    "\n",
    "\n",
    "percentage = 0.3\n",
    "images, annos = oversample(large1, small1, percentage)\n",
    "\n",
    "new = copy.deepcopy(large1)\n",
    "new['images'] = images\n",
    "new['annotations'] = annos\n",
    "new['info']['description'] = f\"{new['info']['description']}+ oversample {percentage*100:.2f}%\""
   ]
  },
  {
   "cell_type": "code",
   "execution_count": 1,
   "id": "cf7c2897-ae9e-48c9-8e49-acf0a60dbb45",
   "metadata": {},
   "outputs": [],
   "source": [
    "# print(new['info'])"
   ]
  },
  {
   "cell_type": "code",
   "execution_count": 57,
   "id": "65c41a44-10f4-4ccc-b1fb-67f6367f564f",
   "metadata": {},
   "outputs": [],
   "source": [
    "with open(Path(Path(small).parent, 'oversample_coco.json'), 'w', encoding='utf-8') as f:\n",
    "    json.dump(new, f, ensure_ascii=False)"
   ]
  }
 ],
 "metadata": {
  "kernelspec": {
   "display_name": "Python 3 (ipykernel)",
   "language": "python",
   "name": "python3"
  },
  "language_info": {
   "codemirror_mode": {
    "name": "ipython",
    "version": 3
   },
   "file_extension": ".py",
   "mimetype": "text/x-python",
   "name": "python",
   "nbconvert_exporter": "python",
   "pygments_lexer": "ipython3",
   "version": "3.10.4"
  }
 },
 "nbformat": 4,
 "nbformat_minor": 5
}
