{
 "cells": [
  {
   "cell_type": "markdown",
   "id": "27cb80ce-6def-4656-879c-78c0158d5a87",
   "metadata": {},
   "source": [
    "# Fiftyone brain examples"
   ]
  },
  {
   "cell_type": "code",
   "execution_count": 1,
   "id": "acc5be04-8bec-4593-a0b6-6c4dd13d39cb",
   "metadata": {},
   "outputs": [
    {
     "name": "stdout",
     "output_type": "stream",
     "text": []
    },
    {
     "name": "stdout",
     "output_type": "stream",
     "text": [
      " 100% |███████████████| 5000/5000 [22.1s elapsed, 0s remaining, 244.0 samples/s]      \n"
     ]
    }
   ],
   "source": [
    "# get dataset\n",
    "from configs import cfg  # import first, set env variables for fiftyone\n",
    "import fiftyone as fo\n",
    "\n",
    "import torch\n",
    "\n",
    "dataset = fo.Dataset.from_dir(\n",
    "    dataset_type = fo.types.COCODetectionDataset,\n",
    "    label_types = [\"detections\", \"segmentations\", \"keypoints\"],\n",
    "    data_path = f'{cfg.DATASET.COCO.ROOT}/images/val2017',\n",
    "    labels_path = f'{cfg.DATASET.COCO.ROOT}/annotations/person_keypoints_val2017.json')"
   ]
  },
  {
   "cell_type": "markdown",
   "id": "1889dae6-8b62-4306-953e-80142194e2a5",
   "metadata": {},
   "source": [
    "## Uniqueness of dataset\n",
    "\n",
    "https://towardsdatascience.com/tools-to-annotate-and-improve-computer-vision-datasets-f9b99cdb0e04\n",
    "\n",
    "--> ERROR: kernel alsways dies https://github.com/voxel51/fiftyone/issues/1600"
   ]
  },
  {
   "cell_type": "code",
   "execution_count": null,
   "id": "cc44bc12-0b67-42bf-9936-4f6ad3e3e02d",
   "metadata": {},
   "outputs": [],
   "source": [
    "import fiftyone.brain as fob\n",
    "\n",
    "results = fob.compute_similarity(dataset)#, brain_key=\"img_sim\")\n",
    "# results.find_unique(100)"
   ]
  },
  {
   "cell_type": "code",
   "execution_count": null,
   "id": "921c0215-7ca7-47c8-b1a1-b9ef4e13d4b0",
   "metadata": {},
   "outputs": [],
   "source": []
  }
 ],
 "metadata": {
  "kernelspec": {
   "display_name": "Python 3 (ipykernel)",
   "language": "python",
   "name": "python3"
  },
  "language_info": {
   "codemirror_mode": {
    "name": "ipython",
    "version": 3
   },
   "file_extension": ".py",
   "mimetype": "text/x-python",
   "name": "python",
   "nbconvert_exporter": "python",
   "pygments_lexer": "ipython3",
   "version": "3.10.4"
  }
 },
 "nbformat": 4,
 "nbformat_minor": 5
}
