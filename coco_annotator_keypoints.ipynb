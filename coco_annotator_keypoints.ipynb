{
 "cells": [
  {
   "cell_type": "code",
   "execution_count": 1,
   "id": "91428d68-f786-4bd8-a342-a4d56fc76170",
   "metadata": {},
   "outputs": [
    {
     "name": "stdout",
     "output_type": "stream",
     "text": []
    },
    {
     "name": "stdout",
     "output_type": "stream",
     "text": [
      " 100% |█████████████████████| 1/1 [31.6ms elapsed, 0s remaining, 33.7 samples/s] \n"
     ]
    },
    {
     "data": {
      "text/plain": [
       "Name:        2022.08.12.18.07.58\n",
       "Media type:  image\n",
       "Num samples: 1\n",
       "Persistent:  False\n",
       "Tags:        []\n",
       "Sample fields:\n",
       "    id:           fiftyone.core.fields.ObjectIdField\n",
       "    filepath:     fiftyone.core.fields.StringField\n",
       "    tags:         fiftyone.core.fields.ListField(fiftyone.core.fields.StringField)\n",
       "    metadata:     fiftyone.core.fields.EmbeddedDocumentField(fiftyone.core.metadata.ImageMetadata)\n",
       "    ground_truth: fiftyone.core.fields.EmbeddedDocumentField(fiftyone.core.labels.Keypoints)"
      ]
     },
     "execution_count": 1,
     "metadata": {},
     "output_type": "execute_result"
    }
   ],
   "source": [
    "# load dataset\n",
    "\n",
    "from configs import cfg\n",
    "import fiftyone as fo\n",
    "\n",
    "fireground_pose = fo.Dataset.from_dir(\n",
    "    dataset_type = fo.types.COCODetectionDataset,\n",
    "    label_types = [\"keypoints\"],\n",
    "    # data_path = f'data/coco_keypoint_example',\n",
    "    # labels_path = f'data/coco_keypoint_example/example.json'\n",
    "    data_path = f'{cfg.DATASET.MYIMG.ROOT}',\n",
    "    labels_path = f'{cfg.DATASET.MYIMG.ROOT}/keypoints.json'\n",
    ")\n",
    "\n",
    "fireground_pose\n",
    "# fireground_pose.info"
   ]
  },
  {
   "cell_type": "code",
   "execution_count": 2,
   "id": "dfd452ea-b7b2-46af-8cff-779f48908122",
   "metadata": {},
   "outputs": [],
   "source": [
    "%%capture\n",
    "# launch fiftyone session and upgrade view\n",
    "\n",
    "import webbrowser\n",
    "session = fo.launch_app(port=cfg.FIFTYONE.PORT)\n",
    "webbrowser.open(cfg.FIFTYONE.URL)\n",
    "\n",
    "dataset = fireground_pose\n",
    "dataset.persistent = True\n",
    "session.view = dataset.view()"
   ]
  }
 ],
 "metadata": {
  "kernelspec": {
   "display_name": "Python 3 (ipykernel)",
   "language": "python",
   "name": "python3"
  },
  "language_info": {
   "codemirror_mode": {
    "name": "ipython",
    "version": 3
   },
   "file_extension": ".py",
   "mimetype": "text/x-python",
   "name": "python",
   "nbconvert_exporter": "python",
   "pygments_lexer": "ipython3",
   "version": "3.10.4"
  }
 },
 "nbformat": 4,
 "nbformat_minor": 5
}
