{
 "cells": [
  {
   "cell_type": "markdown",
   "id": "5ec2c78b-1a07-41a1-b236-e149c09097c5",
   "metadata": {},
   "source": [
    "# Fiftyone toolset examples"
   ]
  },
  {
   "cell_type": "code",
   "execution_count": 1,
   "id": "353c5bd2-55f2-45b2-b326-bc0234934ca3",
   "metadata": {},
   "outputs": [],
   "source": [
    "from configs import cfg\n",
    "import fiftyone as fo\n",
    "import fiftyone.zoo as foz"
   ]
  },
  {
   "cell_type": "markdown",
   "id": "7cb7dfc5-c7bd-403f-82ea-20822d27869e",
   "metadata": {
    "tags": []
   },
   "source": [
    "## Dataset management end testing"
   ]
  },
  {
   "cell_type": "markdown",
   "id": "370cfca2-9a4a-4ab0-8908-8785d7751188",
   "metadata": {},
   "source": [
    "### Show available\n",
    "https://voxel51.com/docs/fiftyone/user_guide/dataset_zoo/datasets.html"
   ]
  },
  {
   "cell_type": "code",
   "execution_count": 2,
   "id": "749f76e2-7f8e-4f81-86c4-60584edf8aa1",
   "metadata": {},
   "outputs": [],
   "source": [
    "# foz.list_zoo_datasets()"
   ]
  },
  {
   "cell_type": "markdown",
   "id": "6321501c-1139-4789-aea0-f987a3b30e89",
   "metadata": {},
   "source": [
    "### Load and convert dataset\n",
    "- dataset zoo: https://voxel51.com/docs/fiftyone/api/fiftyone.zoo.datasets.html#fiftyone.zoo.datasets.load_zoo_dataset\n",
    "- dataset types: https://voxel51.com/docs/fiftyone/api/fiftyone.types.dataset_types.html"
   ]
  },
  {
   "cell_type": "code",
   "execution_count": 3,
   "id": "cd07c54f-6f2d-4327-ad0d-4ca3addf8502",
   "metadata": {},
   "outputs": [
    {
     "name": "stdout",
     "output_type": "stream",
     "text": [
      "Downloading split 'validation' to '/Users/john/fiftyone/coco-2017/validation' if necessary\n",
      "Found annotations at '/Users/john/fiftyone/coco-2017/raw/instances_val2017.json'\n",
      "Sufficient images already downloaded\n",
      "Existing download of split 'validation' is sufficient\n",
      "Loading existing dataset 'coco-2017-validation-200'. To reload from disk, either delete the existing dataset or provide a custom `dataset_name` to use\n"
     ]
    }
   ],
   "source": [
    "# load dataset from zoo\n",
    "zoo_dataset = foz.load_zoo_dataset(\n",
    "    \"coco-2017\", \n",
    "    split=\"validation\",\n",
    "    max_samples=200  # load only sample\n",
    ")"
   ]
  },
  {
   "cell_type": "code",
   "execution_count": 4,
   "id": "84660411-da2c-4c99-a6de-3e2c406b1b1e",
   "metadata": {},
   "outputs": [
    {
     "data": {
      "text/plain": [
       "Name:        coco-2017-validation-200\n",
       "Media type:  image\n",
       "Num samples: 200\n",
       "Persistent:  False\n",
       "Tags:        []\n",
       "Sample fields:\n",
       "    id:           fiftyone.core.fields.ObjectIdField\n",
       "    filepath:     fiftyone.core.fields.StringField\n",
       "    tags:         fiftyone.core.fields.ListField(fiftyone.core.fields.StringField)\n",
       "    metadata:     fiftyone.core.fields.EmbeddedDocumentField(fiftyone.core.metadata.ImageMetadata)\n",
       "    ground_truth: fiftyone.core.fields.EmbeddedDocumentField(fiftyone.core.labels.Detections)"
      ]
     },
     "execution_count": 4,
     "metadata": {},
     "output_type": "execute_result"
    }
   ],
   "source": [
    "zoo_dataset  # does not include keypoints"
   ]
  },
  {
   "cell_type": "code",
   "execution_count": 5,
   "id": "cfae3fc1-1c5d-4ba2-b535-5e4ee980d490",
   "metadata": {},
   "outputs": [
    {
     "name": "stdout",
     "output_type": "stream",
     "text": []
    },
    {
     "name": "stdout",
     "output_type": "stream",
     "text": [
      " 100% |███████████████| 5000/5000 [22.5s elapsed, 0s remaining, 253.7 samples/s]      \n"
     ]
    }
   ],
   "source": [
    "# load dataset from disk\n",
    "coco_val = fo.Dataset.from_dir(\n",
    "    dataset_type = fo.types.COCODetectionDataset,\n",
    "    label_types = [\"detections\", \"segmentations\", \"keypoints\"],\n",
    "    data_path = f'{cfg.DATASET.COCO.ROOT}/images/val2017',\n",
    "    labels_path = f'{cfg.DATASET.COCO.ROOT}/annotations/person_keypoints_val2017.json')"
   ]
  },
  {
   "cell_type": "code",
   "execution_count": 6,
   "id": "8ff0d36d-3927-4eea-9475-99ba7ff66ed2",
   "metadata": {},
   "outputs": [
    {
     "name": "stdout",
     "output_type": "stream",
     "text": []
    },
    {
     "name": "stdout",
     "output_type": "stream",
     "text": [
      " 100% |█████████████████| 200/200 [438.9ms elapsed, 0s remaining, 455.7 samples/s]      \n"
     ]
    }
   ],
   "source": [
    "# export dataset in other formats, e.g., CVAT, to an output directory\n",
    "\n",
    "zoo_dataset.export(f'{cfg.DATASET.COCO.ROOT}/cvat/coco-val2017-200', fo.types.CVATImageDataset, overwrite=True)"
   ]
  },
  {
   "cell_type": "code",
   "execution_count": 7,
   "id": "b8c414cb-4a99-4c1d-8f7c-4b6f193fc26a",
   "metadata": {},
   "outputs": [],
   "source": [
    "%%capture\n",
    "# launch fiftyone session\n",
    "\n",
    "import webbrowser\n",
    "port = 5151\n",
    "session = fo.launch_app(port=port)\n",
    "webbrowser.open(f'http://localhost:{port}/')\n"
   ]
  },
  {
   "cell_type": "code",
   "execution_count": 8,
   "id": "fcdc95c4-075d-4381-bbe7-9882ee3cea4e",
   "metadata": {},
   "outputs": [],
   "source": [
    "%%capture\n",
    "dataset = coco_val\n",
    "dataset.persistent = True\n",
    "\n",
    "# update session dataset\n",
    "# session.dataset = dataset\n",
    "\n",
    "# ... or session view\n",
    "session.view = dataset.view().take(100)"
   ]
  }
 ],
 "metadata": {
  "kernelspec": {
   "display_name": "Python 3 (ipykernel)",
   "language": "python",
   "name": "python3"
  },
  "language_info": {
   "codemirror_mode": {
    "name": "ipython",
    "version": 3
   },
   "file_extension": ".py",
   "mimetype": "text/x-python",
   "name": "python",
   "nbconvert_exporter": "python",
   "pygments_lexer": "ipython3",
   "version": "3.10.4"
  }
 },
 "nbformat": 4,
 "nbformat_minor": 5
}
